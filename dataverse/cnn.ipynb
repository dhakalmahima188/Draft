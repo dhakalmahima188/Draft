{
  "cells": [
    {
      "cell_type": "code",
      "execution_count": null,
      "metadata": {
        "colab": {
          "base_uri": "https://localhost:8080/"
        },
        "id": "t4xcaLzgArKQ",
        "outputId": "4b96dc19-bbe2-417d-d603-68c4838b912f"
      },
      "outputs": [
        {
          "name": "stdout",
          "output_type": "stream",
          "text": [
            "Collecting contractions\n",
            "  Downloading contractions-0.1.66-py2.py3-none-any.whl (8.0 kB)\n",
            "Collecting textsearch>=0.0.21\n",
            "  Downloading textsearch-0.0.21-py2.py3-none-any.whl (7.5 kB)\n",
            "Collecting anyascii\n",
            "  Downloading anyascii-0.3.0-py3-none-any.whl (284 kB)\n",
            "\u001b[K     |████████████████████████████████| 284 kB 5.4 MB/s \n",
            "\u001b[?25hCollecting pyahocorasick\n",
            "  Downloading pyahocorasick-1.4.2.tar.gz (321 kB)\n",
            "\u001b[K     |████████████████████████████████| 321 kB 39.2 MB/s \n",
            "\u001b[?25hBuilding wheels for collected packages: pyahocorasick\n",
            "  Building wheel for pyahocorasick (setup.py) ... \u001b[?25l\u001b[?25hdone\n",
            "  Created wheel for pyahocorasick: filename=pyahocorasick-1.4.2-cp37-cp37m-linux_x86_64.whl size=85442 sha256=c1924469f6647f9b851505d679b02f8b9ac0c7fce6e21db54dc76bbabb012484\n",
            "  Stored in directory: /root/.cache/pip/wheels/25/19/a6/8f363d9939162782bb8439d886469756271abc01f76fbd790f\n",
            "Successfully built pyahocorasick\n",
            "Installing collected packages: pyahocorasick, anyascii, textsearch, contractions\n",
            "Successfully installed anyascii-0.3.0 contractions-0.1.66 pyahocorasick-1.4.2 textsearch-0.0.21\n"
          ]
        }
      ],
      "source": [
        "!pip install contractions"
      ]
    },
    {
      "cell_type": "markdown",
      "metadata": {
        "id": "EbPiItB1M_TT"
      },
      "source": [
        "# Importing Libraries"
      ]
    },
    {
      "cell_type": "code",
      "execution_count": null,
      "metadata": {
        "id": "kfFGP56gyakK"
      },
      "outputs": [],
      "source": [
        "import os\n",
        "import shutil\n",
        "import tensorflow as tf\n",
        "import tensorflow_hub as hub\n",
        "import pandas as pd\n",
        "import numpy as np\n",
        "import matplotlib.pyplot as plt\n",
        "\n",
        "tf.get_logger().setLevel('ERROR')"
      ]
    },
    {
      "cell_type": "code",
      "execution_count": null,
      "metadata": {
        "colab": {
          "base_uri": "https://localhost:8080/"
        },
        "id": "xRoRE_VhyyWT",
        "outputId": "b8f9bfb5-ca62-4119-dfeb-27afd34c4259"
      },
      "outputs": [
        {
          "name": "stdout",
          "output_type": "stream",
          "text": [
            "Mounted at /content/gdrive\n"
          ]
        }
      ],
      "source": [
        "from google.colab import drive\n",
        "drive.mount('/content/gdrive')"
      ]
    },
    {
      "cell_type": "markdown",
      "metadata": {
        "id": "oLp7U8E5ZMiQ"
      },
      "source": [
        "# Importing unclean datasets"
      ]
    },
    {
      "cell_type": "code",
      "execution_count": null,
      "metadata": {
        "id": "V2vnLqFYZQDx"
      },
      "outputs": [],
      "source": [
        "# Reading the training and validation dataset\n",
        "df_train = pd.read_csv('/content/gdrive/MyDrive/datarush/train.csv')\n",
        "df_valid = pd.read_csv('/content/gdrive/MyDrive/datarush/validation.csv')"
      ]
    },
    {
      "cell_type": "markdown",
      "metadata": {
        "id": "hQWdND54YzHN"
      },
      "source": [
        "## Cleaning datasets with build functions\n"
      ]
    },
    {
      "cell_type": "code",
      "execution_count": null,
      "metadata": {
        "colab": {
          "base_uri": "https://localhost:8080/"
        },
        "id": "QpqvsEO3YycP",
        "outputId": "6763313f-0a0a-4897-a070-079353df0e1a"
      },
      "outputs": [
        {
          "name": "stdout",
          "output_type": "stream",
          "text": [
            "[nltk_data] Downloading package wordnet to /root/nltk_data...\n",
            "[nltk_data]   Unzipping corpora/wordnet.zip.\n"
          ]
        }
      ],
      "source": [
        "import nltk\n",
        "nltk.download('wordnet')\n",
        "from nltk.stem import WordNetLemmatizer\n",
        "lemmatizer = WordNetLemmatizer()"
      ]
    },
    {
      "cell_type": "code",
      "execution_count": null,
      "metadata": {
        "id": "U9_GyExTY9oq"
      },
      "outputs": [],
      "source": [
        "def clean_abstract(text):\n",
        "  text = re.sub('[^a-z\\s]', ' ', text.lower())\n",
        "  text = [i.lower() for i in text.split() if i not in nlp.Defaults.stop_words]\n",
        "  text = [lemmatizer.lemmatize(i) for i in text]\n",
        "  text = ' '.join(text)\n",
        "  text.replace('\\n',' ')\n",
        "  return text"
      ]
    },
    {
      "cell_type": "code",
      "execution_count": null,
      "metadata": {
        "id": "ele8nyFlAK69"
      },
      "outputs": [],
      "source": [
        "import contractions\n",
        "import unicodedata\n",
        "import re\n",
        "\n",
        "def remove_accented_chars(text):\n",
        "    text = unicodedata.normalize('NFKD', text).encode('ascii', 'ignore').decode('utf-8', 'ignore')\n",
        "    return text\n",
        "\n",
        "def expand_contractions(text):\n",
        "    return contractions.fix(text)\n",
        "\n",
        "def remove_special_characters(text, remove_digits=False):\n",
        "    pattern = r'[^a-zA-Z0-9\\s]' if not remove_digits else r'[^a-zA-Z\\s]'\n",
        "    text = re.sub(pattern, '', text)\n",
        "    return text\n",
        "\n",
        "def pre_process_document(document):\n",
        "    document = document.lower()\n",
        "    \n",
        "    # remove extra newlines (often might be present in really noisy text)\n",
        "    document = document.translate(document.maketrans(\"\\n\\t\\r\", \"   \"))\n",
        "    \n",
        "    # remove accented characters\n",
        "    document = remove_accented_chars(document)\n",
        "    \n",
        "    # expand contractions    \n",
        "    document = expand_contractions(document)\n",
        "               \n",
        "    # remove special characters and\\or digits    \n",
        "    # insert spaces between special characters to isolate them    \n",
        "    special_char_pattern = re.compile(r'([{.(-)!}])')\n",
        "    document = special_char_pattern.sub(\" \\\\1 \", document)\n",
        "    document = remove_special_characters(document, remove_digits=True)  \n",
        "        \n",
        "    # remove extra whitespace\n",
        "    document = re.sub(' +', ' ', document)\n",
        "    document = document.strip()\n",
        "    \n",
        "    return document"
      ]
    },
    {
      "cell_type": "code",
      "execution_count": null,
      "metadata": {
        "id": "8JuPgsD7ZeNP"
      },
      "outputs": [],
      "source": [
        "df_train['abstract'] = df_train['abstract'].apply(pre_process_document)\n",
        "df_valid['abstract'] = df_valid['abstract'].apply(pre_process_document)"
      ]
    },
    {
      "cell_type": "markdown",
      "metadata": {
        "id": "3Uk1fxHzbfNZ"
      },
      "source": [
        "## Saving clean preprocess data"
      ]
    },
    {
      "cell_type": "code",
      "execution_count": null,
      "metadata": {
        "id": "RU-ldOWUa_yx"
      },
      "outputs": [],
      "source": [
        "df_train.to_csv(\"clean_train_preprocess.csv\")\n",
        "df_valid.to_csv(\"clean_valid_preprocess.csv\")"
      ]
    },
    {
      "cell_type": "code",
      "execution_count": null,
      "metadata": {
        "id": "-yG_aHYobDPD"
      },
      "outputs": [],
      "source": [
        "!cp clean_train_preprocess.csv \"/content/gdrive/MyDrive/Amalgam_clean/\"\n",
        "!cp clean_valid_preprocess.csv \"/content/gdrive/MyDrive/Amalgam_clean/\""
      ]
    },
    {
      "cell_type": "markdown",
      "metadata": {
        "id": "mTd2FckNbkBt"
      },
      "source": [
        "## Importing clean lemmatize data"
      ]
    },
    {
      "cell_type": "code",
      "execution_count": null,
      "metadata": {
        "id": "iNOWGtaPy8sM"
      },
      "outputs": [],
      "source": [
        "df_clean_train = pd.read_csv('/content/gdrive/MyDrive/Amalgam_clean/clean_train_preprocess.csv')\n",
        "df_clean_valid = pd.read_csv('/content/gdrive/MyDrive/Amalgam_clean/clean_valid_preprocess.csv')"
      ]
    },
    {
      "cell_type": "code",
      "execution_count": null,
      "metadata": {
        "id": "Xa5Li0Z3fKu_"
      },
      "outputs": [],
      "source": []
    },
    {
      "cell_type": "markdown",
      "metadata": {
        "id": "PuZ_x3TJdg6w"
      },
      "source": [
        "##Importing clean stemmed data"
      ]
    },
    {
      "cell_type": "code",
      "execution_count": null,
      "metadata": {
        "id": "2alzplpLdgdB"
      },
      "outputs": [],
      "source": [
        "df_clean_train = pd.read_csv('/content/gdrive/MyDrive/Amalgam/clean_train.csv')\n",
        "df_clean_valid = pd.read_csv('/content/gdrive/MyDrive/Amalgam/clean_valid.csv')"
      ]
    },
    {
      "cell_type": "markdown",
      "metadata": {
        "id": "bo0_stovbm9l"
      },
      "source": [
        "## Checking for null"
      ]
    },
    {
      "cell_type": "code",
      "execution_count": null,
      "metadata": {
        "colab": {
          "base_uri": "https://localhost:8080/"
        },
        "id": "WUPzViLZzCeU",
        "outputId": "3aaf076f-c1d2-40d6-c499-5775b76e02a1"
      },
      "outputs": [
        {
          "data": {
            "text/plain": [
              "Unnamed: 0      0\n",
              "id              0\n",
              "abstract        1\n",
              "category        0\n",
              "category_num    0\n",
              "dtype: int64"
            ]
          },
          "execution_count": 4,
          "metadata": {},
          "output_type": "execute_result"
        }
      ],
      "source": [
        "#checking for null values\n",
        "df_clean_train.isna().sum()"
      ]
    },
    {
      "cell_type": "code",
      "execution_count": null,
      "metadata": {
        "colab": {
          "base_uri": "https://localhost:8080/"
        },
        "id": "SlAqFEs0BsHH",
        "outputId": "4a1ef2ff-cb5b-4a0d-a6c7-3593e9aa73a6"
      },
      "outputs": [
        {
          "data": {
            "text/html": [
              "\n",
              "  <div id=\"df-6461b791-ee6b-4076-9f1e-d246d7d9bdab\">\n",
              "    <div class=\"colab-df-container\">\n",
              "      <div>\n",
              "<style scoped>\n",
              "    .dataframe tbody tr th:only-of-type {\n",
              "        vertical-align: middle;\n",
              "    }\n",
              "\n",
              "    .dataframe tbody tr th {\n",
              "        vertical-align: top;\n",
              "    }\n",
              "\n",
              "    .dataframe thead th {\n",
              "        text-align: right;\n",
              "    }\n",
              "</style>\n",
              "<table border=\"1\" class=\"dataframe\">\n",
              "  <thead>\n",
              "    <tr style=\"text-align: right;\">\n",
              "      <th></th>\n",
              "      <th>Unnamed: 0</th>\n",
              "      <th>id</th>\n",
              "      <th>abstract</th>\n",
              "      <th>category</th>\n",
              "      <th>category_num</th>\n",
              "    </tr>\n",
              "  </thead>\n",
              "  <tbody>\n",
              "    <tr>\n",
              "      <th>112839</th>\n",
              "      <td>112839</td>\n",
              "      <td>59911</td>\n",
              "      <td>NaN</td>\n",
              "      <td>cs-LG</td>\n",
              "      <td>40</td>\n",
              "    </tr>\n",
              "  </tbody>\n",
              "</table>\n",
              "</div>\n",
              "      <button class=\"colab-df-convert\" onclick=\"convertToInteractive('df-6461b791-ee6b-4076-9f1e-d246d7d9bdab')\"\n",
              "              title=\"Convert this dataframe to an interactive table.\"\n",
              "              style=\"display:none;\">\n",
              "        \n",
              "  <svg xmlns=\"http://www.w3.org/2000/svg\" height=\"24px\"viewBox=\"0 0 24 24\"\n",
              "       width=\"24px\">\n",
              "    <path d=\"M0 0h24v24H0V0z\" fill=\"none\"/>\n",
              "    <path d=\"M18.56 5.44l.94 2.06.94-2.06 2.06-.94-2.06-.94-.94-2.06-.94 2.06-2.06.94zm-11 1L8.5 8.5l.94-2.06 2.06-.94-2.06-.94L8.5 2.5l-.94 2.06-2.06.94zm10 10l.94 2.06.94-2.06 2.06-.94-2.06-.94-.94-2.06-.94 2.06-2.06.94z\"/><path d=\"M17.41 7.96l-1.37-1.37c-.4-.4-.92-.59-1.43-.59-.52 0-1.04.2-1.43.59L10.3 9.45l-7.72 7.72c-.78.78-.78 2.05 0 2.83L4 21.41c.39.39.9.59 1.41.59.51 0 1.02-.2 1.41-.59l7.78-7.78 2.81-2.81c.8-.78.8-2.07 0-2.86zM5.41 20L4 18.59l7.72-7.72 1.47 1.35L5.41 20z\"/>\n",
              "  </svg>\n",
              "      </button>\n",
              "      \n",
              "  <style>\n",
              "    .colab-df-container {\n",
              "      display:flex;\n",
              "      flex-wrap:wrap;\n",
              "      gap: 12px;\n",
              "    }\n",
              "\n",
              "    .colab-df-convert {\n",
              "      background-color: #E8F0FE;\n",
              "      border: none;\n",
              "      border-radius: 50%;\n",
              "      cursor: pointer;\n",
              "      display: none;\n",
              "      fill: #1967D2;\n",
              "      height: 32px;\n",
              "      padding: 0 0 0 0;\n",
              "      width: 32px;\n",
              "    }\n",
              "\n",
              "    .colab-df-convert:hover {\n",
              "      background-color: #E2EBFA;\n",
              "      box-shadow: 0px 1px 2px rgba(60, 64, 67, 0.3), 0px 1px 3px 1px rgba(60, 64, 67, 0.15);\n",
              "      fill: #174EA6;\n",
              "    }\n",
              "\n",
              "    [theme=dark] .colab-df-convert {\n",
              "      background-color: #3B4455;\n",
              "      fill: #D2E3FC;\n",
              "    }\n",
              "\n",
              "    [theme=dark] .colab-df-convert:hover {\n",
              "      background-color: #434B5C;\n",
              "      box-shadow: 0px 1px 3px 1px rgba(0, 0, 0, 0.15);\n",
              "      filter: drop-shadow(0px 1px 2px rgba(0, 0, 0, 0.3));\n",
              "      fill: #FFFFFF;\n",
              "    }\n",
              "  </style>\n",
              "\n",
              "      <script>\n",
              "        const buttonEl =\n",
              "          document.querySelector('#df-6461b791-ee6b-4076-9f1e-d246d7d9bdab button.colab-df-convert');\n",
              "        buttonEl.style.display =\n",
              "          google.colab.kernel.accessAllowed ? 'block' : 'none';\n",
              "\n",
              "        async function convertToInteractive(key) {\n",
              "          const element = document.querySelector('#df-6461b791-ee6b-4076-9f1e-d246d7d9bdab');\n",
              "          const dataTable =\n",
              "            await google.colab.kernel.invokeFunction('convertToInteractive',\n",
              "                                                     [key], {});\n",
              "          if (!dataTable) return;\n",
              "\n",
              "          const docLinkHtml = 'Like what you see? Visit the ' +\n",
              "            '<a target=\"_blank\" href=https://colab.research.google.com/notebooks/data_table.ipynb>data table notebook</a>'\n",
              "            + ' to learn more about interactive tables.';\n",
              "          element.innerHTML = '';\n",
              "          dataTable['output_type'] = 'display_data';\n",
              "          await google.colab.output.renderOutput(dataTable, element);\n",
              "          const docLink = document.createElement('div');\n",
              "          docLink.innerHTML = docLinkHtml;\n",
              "          element.appendChild(docLink);\n",
              "        }\n",
              "      </script>\n",
              "    </div>\n",
              "  </div>\n",
              "  "
            ],
            "text/plain": [
              "        Unnamed: 0     id abstract category  category_num\n",
              "112839      112839  59911      NaN    cs-LG            40"
            ]
          },
          "execution_count": 5,
          "metadata": {},
          "output_type": "execute_result"
        }
      ],
      "source": [
        "is_NaN = df_clean_train.isnull()\n",
        "row_has_NaN = is_NaN.any(axis=1)\n",
        "rows_with_NaN = df_clean_train[row_has_NaN]\n",
        "rows_with_NaN"
      ]
    },
    {
      "cell_type": "code",
      "execution_count": null,
      "metadata": {
        "id": "OTUWGVm7BxoY"
      },
      "outputs": [],
      "source": [
        "df_clean_train.dropna(inplace=True)"
      ]
    },
    {
      "cell_type": "code",
      "execution_count": null,
      "metadata": {
        "colab": {
          "base_uri": "https://localhost:8080/"
        },
        "id": "mGOyppdkzNFb",
        "outputId": "851fc873-a358-465f-9ef5-8e2f2276dffb"
      },
      "outputs": [
        {
          "data": {
            "text/plain": [
              "Unnamed: 0      0\n",
              "id              0\n",
              "abstract        0\n",
              "category        0\n",
              "category_num    0\n",
              "dtype: int64"
            ]
          },
          "execution_count": 7,
          "metadata": {},
          "output_type": "execute_result"
        }
      ],
      "source": [
        "df_clean_valid.isna().sum()"
      ]
    },
    {
      "cell_type": "code",
      "execution_count": null,
      "metadata": {
        "id": "bCpJuR3yzPrm"
      },
      "outputs": [],
      "source": [
        "X_train, y_train = df_clean_train['abstract'],df_clean_train['category']\n",
        "X_valid, y_valid = df_clean_valid['abstract'],df_clean_valid['category']"
      ]
    },
    {
      "cell_type": "code",
      "execution_count": null,
      "metadata": {
        "colab": {
          "base_uri": "https://localhost:8080/"
        },
        "id": "OELrlbON1xDv",
        "outputId": "35ac64e2-9360-454c-99ef-4d84c14f9fe3"
      },
      "outputs": [
        {
          "data": {
            "application/vnd.google.colaboratory.intrinsic+json": {
              "type": "string"
            },
            "text/plain": [
              "'bacteria expos multipl stimuli complex environ effici chemotact decis critic surviv grow nativ environ bacteri respons environment stimuli depend ratio correspond chemoreceptor incorpor signal machineri individu cell analyz collect motion popul escherichia coli bacteria respons stimuli mainli serin methyl aspart measp dimension dimension environ inspir experiment result y kalinin et al j bacteriol suitabl condit ratio main chemoreceptor individu cell tar tsr specif threshold bacteria gradient serin ratio greater threshold group bacteria gradient measp final examin theori mont carlo agent base simul verifi result qualit agre experiment result y kalinin et al'"
            ]
          },
          "execution_count": 9,
          "metadata": {},
          "output_type": "execute_result"
        }
      ],
      "source": [
        "X_train[0]"
      ]
    },
    {
      "cell_type": "markdown",
      "metadata": {
        "id": "DMhR0OJN0eSI"
      },
      "source": [
        "## Under and Over Sampling"
      ]
    },
    {
      "cell_type": "code",
      "execution_count": null,
      "metadata": {
        "id": "piYic5BlzpAC"
      },
      "outputs": [],
      "source": [
        "from sklearn.preprocessing import LabelEncoder\n",
        "label_encoder = LabelEncoder().fit(y_train)\n",
        "\n",
        "y_train = label_encoder.transform(y_train)\n",
        "y_valid = label_encoder.transform(y_valid)"
      ]
    },
    {
      "cell_type": "code",
      "execution_count": null,
      "metadata": {
        "id": "zXc4WyEW0d6x"
      },
      "outputs": [],
      "source": [
        "from imblearn.under_sampling import RandomUnderSampler\n",
        "from imblearn.over_sampling import RandomOverSampler"
      ]
    },
    {
      "cell_type": "code",
      "execution_count": null,
      "metadata": {
        "id": "blK4R0NP6Ue-"
      },
      "outputs": [],
      "source": [
        "from collections import Counter\n",
        "def sampling_strategy(y,n_samples, t='majority'):\n",
        "    target_classes = ''\n",
        "    if t == 'majority':\n",
        "        target_classes = {k:v for k,v in dict(Counter(y)).items() if v > n_samples}\n",
        "    elif t == 'minority':\n",
        "        # Since SMOTE depends on KNN, filtering out those samples that occur less than 10 times\n",
        "        target_classes = {k:v for k,v in dict(Counter(y)).items() if v < n_samples and v > 10}\n",
        "    sampling_strategy = {k:n_samples for k,v in target_classes.items()}\n",
        "    return sampling_strategy"
      ]
    },
    {
      "cell_type": "code",
      "execution_count": null,
      "metadata": {
        "id": "J6Qx5Ejt6e96"
      },
      "outputs": [],
      "source": [
        "over_sampler_ss = sampling_strategy(y_train,1000,t='minority')"
      ]
    },
    {
      "cell_type": "code",
      "execution_count": null,
      "metadata": {
        "id": "0o1PJZaz6hU2"
      },
      "outputs": [],
      "source": [
        "under_sampler_ss = sampling_strategy(y_train,8000,t='majority')"
      ]
    },
    {
      "cell_type": "code",
      "execution_count": null,
      "metadata": {
        "id": "ZxT0rkCa1EHs"
      },
      "outputs": [],
      "source": [
        "under_sampler=RandomUnderSampler(sampling_strategy=under_sampler_ss,random_state=20)\n",
        "X_under,y_under=under_sampler.fit_resample(np.array(X_train).reshape(-1,1), y_train)"
      ]
    },
    {
      "cell_type": "code",
      "execution_count": null,
      "metadata": {
        "id": "0Gno6DAvCctn"
      },
      "outputs": [],
      "source": [
        "over_sampler=RandomOverSampler(sampling_strategy=over_sampler_ss,random_state=20)\n",
        "X_over,y_over=over_sampler.fit_resample(X_under,y_under)"
      ]
    },
    {
      "cell_type": "code",
      "execution_count": null,
      "metadata": {
        "colab": {
          "base_uri": "https://localhost:8080/"
        },
        "id": "XdezxF8QBZGC",
        "outputId": "a4999d30-3989-4202-a683-a418db209d50"
      },
      "outputs": [
        {
          "data": {
            "text/plain": [
              "(381961, 1)"
            ]
          },
          "execution_count": 17,
          "metadata": {},
          "output_type": "execute_result"
        }
      ],
      "source": [
        "X_over.shape"
      ]
    },
    {
      "cell_type": "code",
      "execution_count": null,
      "metadata": {
        "id": "YIZzRSLIzrGs"
      },
      "outputs": [],
      "source": [
        "from keras.utils import np_utils\n",
        "y_over_enc = np_utils.to_categorical(y_over)"
      ]
    },
    {
      "cell_type": "code",
      "execution_count": null,
      "metadata": {
        "colab": {
          "base_uri": "https://localhost:8080/"
        },
        "id": "H0BpYG31zvLD",
        "outputId": "5ee6428a-24f5-4be7-e7af-727c71cfd81e"
      },
      "outputs": [
        {
          "data": {
            "text/plain": [
              "156"
            ]
          },
          "execution_count": 19,
          "metadata": {},
          "output_type": "execute_result"
        }
      ],
      "source": [
        "#Total number of categories\n",
        "n_classes = len(y_over_enc[0])\n",
        "n_classes"
      ]
    },
    {
      "cell_type": "code",
      "execution_count": null,
      "metadata": {
        "id": "sM2fvMr2zwiN"
      },
      "outputs": [],
      "source": [
        "#Encoding validation dataset according to total number of categories in train dataset\n",
        "y_valid_enc = np_utils.to_categorical(y_valid, num_classes=n_classes)"
      ]
    },
    {
      "cell_type": "markdown",
      "metadata": {
        "id": "aYgybGgZeKdr"
      },
      "source": [
        "# Embedding layer"
      ]
    },
    {
      "cell_type": "code",
      "execution_count": null,
      "metadata": {
        "colab": {
          "base_uri": "https://localhost:8080/"
        },
        "id": "Ne10gJMxeM_y",
        "outputId": "ba9d5afd-5256-4084-e1c4-f5355068d264"
      },
      "outputs": [
        {
          "name": "stdout",
          "output_type": "stream",
          "text": [
            "--2022-01-26 03:40:02--  http://nlp.stanford.edu/data/glove.6B.zip\n",
            "Resolving nlp.stanford.edu (nlp.stanford.edu)... 171.64.67.140\n",
            "Connecting to nlp.stanford.edu (nlp.stanford.edu)|171.64.67.140|:80... connected.\n",
            "HTTP request sent, awaiting response... 302 Found\n",
            "Location: https://nlp.stanford.edu/data/glove.6B.zip [following]\n",
            "--2022-01-26 03:40:02--  https://nlp.stanford.edu/data/glove.6B.zip\n",
            "Connecting to nlp.stanford.edu (nlp.stanford.edu)|171.64.67.140|:443... connected.\n",
            "HTTP request sent, awaiting response... 301 Moved Permanently\n",
            "Location: http://downloads.cs.stanford.edu/nlp/data/glove.6B.zip [following]\n",
            "--2022-01-26 03:40:03--  http://downloads.cs.stanford.edu/nlp/data/glove.6B.zip\n",
            "Resolving downloads.cs.stanford.edu (downloads.cs.stanford.edu)... 171.64.64.22\n",
            "Connecting to downloads.cs.stanford.edu (downloads.cs.stanford.edu)|171.64.64.22|:80... connected.\n",
            "HTTP request sent, awaiting response... 200 OK\n",
            "Length: 862182613 (822M) [application/zip]\n",
            "Saving to: ‘glove.6B.zip’\n",
            "\n",
            "glove.6B.zip        100%[===================>] 822.24M  5.01MB/s    in 2m 42s  \n",
            "\n",
            "2022-01-26 03:42:45 (5.08 MB/s) - ‘glove.6B.zip’ saved [862182613/862182613]\n",
            "\n"
          ]
        }
      ],
      "source": [
        "!wget http://nlp.stanford.edu/data/glove.6B.zip\n",
        "!unzip -q glove.6B.zip"
      ]
    },
    {
      "cell_type": "code",
      "execution_count": null,
      "metadata": {
        "colab": {
          "base_uri": "https://localhost:8080/"
        },
        "id": "7xAlaZ3iePIa",
        "outputId": "8854cf4a-ca89-4919-b3e7-cc74bea19b5b"
      },
      "outputs": [
        {
          "name": "stdout",
          "output_type": "stream",
          "text": [
            "Found 400000 word vectors.\n"
          ]
        }
      ],
      "source": [
        "embeddings_index = {}\n",
        "with open(\"/content/glove.6B.100d.txt\") as f:\n",
        "    for line in f:\n",
        "        word, coefs = line.split(maxsplit=1)\n",
        "        coefs = np.fromstring(coefs, \"f\", sep=\" \")\n",
        "        embeddings_index[word] = coefs\n",
        "\n",
        "print(\"Found %s word vectors.\" % len(embeddings_index))"
      ]
    },
    {
      "cell_type": "code",
      "execution_count": null,
      "metadata": {
        "id": "qOY2gu-nedRU"
      },
      "outputs": [],
      "source": [
        "train_xx = X_over\n",
        "valid_xx = df_clean_valid['abstract']"
      ]
    },
    {
      "cell_type": "code",
      "execution_count": null,
      "metadata": {
        "id": "8nzNS4-Ted2d"
      },
      "outputs": [],
      "source": [
        "trainDF = pd.concat([pd.Series(train_xx.flatten()),valid_xx], ignore_index=True)"
      ]
    },
    {
      "cell_type": "code",
      "execution_count": null,
      "metadata": {
        "id": "ItsngEqxegvs"
      },
      "outputs": [],
      "source": [
        "trainDF = trainDF.to_frame(name='text')"
      ]
    },
    {
      "cell_type": "code",
      "execution_count": null,
      "metadata": {
        "id": "7Cv7cAcoelFv"
      },
      "outputs": [],
      "source": [
        "# create a tokenizer \n",
        "from keras.preprocessing import text, sequence\n",
        "token = text.Tokenizer()\n",
        "token.fit_on_texts(trainDF['text'])\n",
        "word_index = token.word_index"
      ]
    },
    {
      "cell_type": "code",
      "execution_count": null,
      "metadata": {
        "id": "GnM-OATIepf8"
      },
      "outputs": [],
      "source": [
        "# convert text to sequence of tokens and pad them to ensure equal length vectors \n",
        "train_seq_x = sequence.pad_sequences(token.texts_to_sequences(pd.Series(train_xx.flatten())), maxlen=100)\n",
        "valid_seq_x = sequence.pad_sequences(token.texts_to_sequences(valid_xx), maxlen=100)"
      ]
    },
    {
      "cell_type": "code",
      "execution_count": null,
      "metadata": {
        "id": "d6X183isetyZ"
      },
      "outputs": [],
      "source": [
        "# create token-embedding mapping\n",
        "embedding_matrix = np.zeros((len(word_index) + 1, 100))\n",
        "for word, i in word_index.items():\n",
        "    embedding_vector = embeddings_index.get(word)\n",
        "    if embedding_vector is not None:\n",
        "        embedding_matrix[i] = embedding_vector"
      ]
    },
    {
      "cell_type": "markdown",
      "metadata": {
        "id": "Yh4diZFjFGVC"
      },
      "source": [
        "# Vectorizer"
      ]
    },
    {
      "cell_type": "code",
      "execution_count": null,
      "metadata": {
        "id": "toIb9-2_ErOH"
      },
      "outputs": [],
      "source": [
        "from sklearn.feature_extraction.text import TfidfVectorizer\n",
        "tfidf = TfidfVectorizer(max_features=10000, stop_words='english', ngram_range=(1,1))\n",
        "tfidf_vectorizer = tfidf.fit(pd.Series(X_over.flatten()))\n",
        "tf_len = len(tfidf_vectorizer.vocabulary_)\n",
        "\n",
        "X_over = tfidf_vectorizer.transform(pd.Series(X_over.flatten())).astype('float32')\n",
        "X_valid = tfidf_vectorizer.transform(X_valid).astype('float32') "
      ]
    },
    {
      "cell_type": "code",
      "execution_count": null,
      "metadata": {
        "id": "aNovIDZc3JAR"
      },
      "outputs": [],
      "source": []
    },
    {
      "cell_type": "markdown",
      "metadata": {
        "id": "58ccfoOWDIsL"
      },
      "source": [
        "# CNN"
      ]
    },
    {
      "cell_type": "code",
      "execution_count": null,
      "metadata": {
        "id": "YYyl4lSpjbYQ"
      },
      "outputs": [],
      "source": [
        "from keras import layers,models\n",
        "\n",
        "def create_cnn():\n",
        "    # Add an Input Layer\n",
        "    input_layer = layers.Input((100, ))\n",
        "\n",
        "    # Add the word embedding Layer\n",
        "    embedding_layer = layers.Embedding(len(word_index) + 1, 100, weights=[embedding_matrix], trainable=False)(input_layer)\n",
        "    embedding_layer = layers.SpatialDropout1D(0.3)(embedding_layer)\n",
        "\n",
        "    # Add the convolutional Layer\n",
        "    conv_layer = layers.Convolution1D(100, 3, activation=\"relu\", kernel_initializer= 'glorot_uniform')(embedding_layer)\n",
        "    # Add the pooling Layer\n",
        "    pooling_layer = layers.GlobalMaxPool1D()(conv_layer)\n",
        "    pooling_layet = layers.Dropout(0.5)(pooling_layer)\n",
        "    \n",
        "    # Add the output Layers\n",
        "    output_layer1 = layers.Dense(512, activation=\"relu\")(pooling_layer)\n",
        "    output_layer1= layers.BatchNormalization()(output_layer1)\n",
        "    output_layer1 = layers.Dropout(0.5)(output_layer1)\n",
        "\n",
        "     # Add the output Layers\n",
        "    output_layer2 = layers.Dense(256, activation=\"relu\")(output_layer1)\n",
        "    output_layer2 = layers.BatchNormalization()(output_layer2)\n",
        "    output_layer2 = layers.Dropout(0.5)(output_layer2)\n",
        "\n",
        "     # Add the output Layers\n",
        "    output_layer3 = layers.Dense(128, activation=\"relu\")(output_layer2)\n",
        "    output_layer3 = layers.BatchNormalization()(output_layer3)\n",
        "    output_layer3 = layers.Dropout(0.3)(output_layer3)\n",
        "\n",
        "    output_layer3 = layers.Dense(n_classes, activation=\"softmax\")(output_layer3)\n",
        "\n",
        "    # Compile the model\n",
        "    model = models.Model(inputs=input_layer, outputs=output_layer3)\n",
        "    optimizer=tf.keras.optimizers.Adam(learning_rate=0.001)\n",
        "    model.compile(loss='categorical_crossentropy', optimizer=optimizer, metrics=['accuracy'])\n",
        "    \n",
        "    return model"
      ]
    },
    {
      "cell_type": "code",
      "execution_count": null,
      "metadata": {
        "id": "owaqMcVIEVZV"
      },
      "outputs": [],
      "source": [
        "model = create_cnn()"
      ]
    },
    {
      "cell_type": "code",
      "execution_count": null,
      "metadata": {
        "colab": {
          "base_uri": "https://localhost:8080/"
        },
        "id": "AeRE7iJeEZFq",
        "outputId": "15ec7949-4c86-43f9-8355-96926df428f2"
      },
      "outputs": [
        {
          "name": "stdout",
          "output_type": "stream",
          "text": [
            "Epoch 1/10\n",
            "11937/11937 [==============================] - 270s 22ms/step - loss: 3.2104 - accuracy: 0.2093 - val_loss: 2.2695 - val_accuracy: 0.3859\n",
            "Epoch 2/10\n",
            "11937/11937 [==============================] - 267s 22ms/step - loss: 2.7845 - accuracy: 0.2790 - val_loss: 2.1777 - val_accuracy: 0.3987\n",
            "Epoch 3/10\n",
            "11937/11937 [==============================] - 267s 22ms/step - loss: 2.6960 - accuracy: 0.2968 - val_loss: 2.0749 - val_accuracy: 0.4272\n",
            "Epoch 4/10\n",
            "11937/11937 [==============================] - 269s 23ms/step - loss: 2.6506 - accuracy: 0.3074 - val_loss: 2.0664 - val_accuracy: 0.4266\n",
            "Epoch 5/10\n",
            "11937/11937 [==============================] - 266s 22ms/step - loss: 2.6137 - accuracy: 0.3157 - val_loss: 2.0168 - val_accuracy: 0.4384\n",
            "Epoch 6/10\n",
            "11937/11937 [==============================] - 266s 22ms/step - loss: 2.5896 - accuracy: 0.3204 - val_loss: 2.0213 - val_accuracy: 0.4374\n",
            "Epoch 7/10\n",
            "11937/11937 [==============================] - 266s 22ms/step - loss: 2.5722 - accuracy: 0.3232 - val_loss: 2.0012 - val_accuracy: 0.4422\n",
            "Epoch 8/10\n",
            "11937/11937 [==============================] - 267s 22ms/step - loss: 2.5530 - accuracy: 0.3276 - val_loss: 2.0058 - val_accuracy: 0.4402\n",
            "Epoch 9/10\n",
            "11937/11937 [==============================] - 265s 22ms/step - loss: 2.5402 - accuracy: 0.3313 - val_loss: 1.9963 - val_accuracy: 0.4423\n",
            "Epoch 10/10\n",
            "11937/11937 [==============================] - 264s 22ms/step - loss: 2.5279 - accuracy: 0.3329 - val_loss: 1.9645 - val_accuracy: 0.4487\n"
          ]
        }
      ],
      "source": [
        "history = model.fit(train_seq_x, y_over_enc, epochs=10,validation_data=(valid_seq_x, y_valid_enc))"
      ]
    },
    {
      "cell_type": "code",
      "execution_count": null,
      "metadata": {
        "id": "gvw9biKHw2HA"
      },
      "outputs": [],
      "source": [
        "model.save(\"/content/gdrive/MyDrive/Amalgam/cnn2.h5\")"
      ]
    },
    {
      "cell_type": "code",
      "execution_count": null,
      "metadata": {
        "colab": {
          "base_uri": "https://localhost:8080/",
          "height": 295
        },
        "id": "kuHoqQ_CEcgp",
        "outputId": "a2e53076-66c7-416e-d028-584288a0bb22"
      },
      "outputs": [
        {
          "data": {
            "image/png": "[encoded data removed]",
            "text/plain": [
              "<Figure size 432x288 with 1 Axes>"
            ]
          },
          "metadata": {
            "needs_background": "light"
          },
          "output_type": "display_data"
        }
      ],
      "source": [
        "import matplotlib.pyplot as plt\n",
        "plt.plot(history.history['accuracy'])\n",
        "plt.plot(history.history['val_accuracy'])\n",
        "plt.title('model accuracy')\n",
        "plt.ylabel('accuracy')\n",
        "plt.xlabel('epoch')\n",
        "plt.legend(['train', 'validation'], loc='upper left')\n",
        "plt.show()"
      ]
    },
    {
      "cell_type": "code",
      "execution_count": null,
      "metadata": {
        "colab": {
          "base_uri": "https://localhost:8080/",
          "height": 295
        },
        "id": "tKLv0PzZEf2G",
        "outputId": "9f4ea3de-a4a0-4eb0-a4c0-839ea7f24047"
      },
      "outputs": [
        {
          "data": {
            "image/png": "[encoded data removed]",
            "text/plain": [
              "<Figure size 432x288 with 1 Axes>"
            ]
          },
          "metadata": {
            "needs_background": "light"
          },
          "output_type": "display_data"
        }
      ],
      "source": [
        "plt.plot(history.history['loss'])\n",
        "plt.plot(history.history['val_loss'])\n",
        "plt.title('model loss')\n",
        "plt.ylabel('loss')\n",
        "plt.xlabel('epoch')\n",
        "plt.legend(['train', 'validation'], loc='upper left')\n",
        "plt.show()"
      ]
    },
    {
      "cell_type": "code",
      "execution_count": null,
      "metadata": {
        "id": "K7tBd-BwVyY-"
      },
      "outputs": [],
      "source": [
        "#importing test.csv file\n",
        "df_test = pd.read_csv('/content/gdrive/MyDrive/datarush/test.csv')"
      ]
    },
    {
      "cell_type": "code",
      "execution_count": null,
      "metadata": {
        "id": "gkxz3V6uWLsR"
      },
      "outputs": [],
      "source": [
        "df_test['abstract'] = df_test['abstract'].apply(pre_process_document)"
      ]
    },
    {
      "cell_type": "code",
      "execution_count": null,
      "metadata": {
        "id": "AWxHVztMWO5q"
      },
      "outputs": [],
      "source": [
        "X_test = df_test['abstract']\n",
        "X_test = sequence.pad_sequences(token.texts_to_sequences(X_test), maxlen=100)"
      ]
    },
    {
      "cell_type": "code",
      "execution_count": null,
      "metadata": {
        "id": "LwcBeP7xWUH4"
      },
      "outputs": [],
      "source": [
        "\n",
        "test_classes = model.predict(X_test, verbose=0)"
      ]
    },
    {
      "cell_type": "code",
      "execution_count": null,
      "metadata": {
        "colab": {
          "base_uri": "https://localhost:8080/"
        },
        "id": "hyibYOVRWYPY",
        "outputId": "a36a823a-4899-47a2-ad1b-614426de028e"
      },
      "outputs": [
        {
          "data": {
            "text/plain": [
              "array([ 25,  54,  68, ..., 125,  25,  92])"
            ]
          },
          "execution_count": 84,
          "metadata": {},
          "output_type": "execute_result"
        }
      ],
      "source": [
        "test_predictions = []\n",
        "for i in test_classes:\n",
        "    maxx = np.argmax(i)\n",
        "    test_predictions.append(maxx)\n",
        "test_predictions= np.array(test_predictions)\n",
        "test_predictions"
      ]
    },
    {
      "cell_type": "code",
      "execution_count": null,
      "metadata": {
        "id": "nmEe1eARWZCP"
      },
      "outputs": [],
      "source": [
        "predicted_classes = []\n",
        "for i in test_predictions:\n",
        "    predicted_classes.append(label_encoder.classes_[i])"
      ]
    },
    {
      "cell_type": "code",
      "execution_count": null,
      "metadata": {
        "id": "MZnsO4uMWf1t"
      },
      "outputs": [],
      "source": [
        "solution_df = pd.DataFrame()"
      ]
    },
    {
      "cell_type": "code",
      "execution_count": null,
      "metadata": {
        "id": "aJLkeRh9Wldf"
      },
      "outputs": [],
      "source": [
        "solution_df['id'] = df_test['id']"
      ]
    },
    {
      "cell_type": "code",
      "execution_count": null,
      "metadata": {
        "id": "L11B6oetWmxU"
      },
      "outputs": [],
      "source": [
        "solution_df['category_num'] = pd.Series(test_predictions)"
      ]
    },
    {
      "cell_type": "code",
      "execution_count": null,
      "metadata": {
        "id": "qOLTBcGDWn_D"
      },
      "outputs": [],
      "source": [
        "solution_df.to_csv('solution.csv', index=False)"
      ]
    },
    {
      "cell_type": "code",
      "execution_count": null,
      "metadata": {
        "id": "0WnmVYvgXdxm"
      },
      "outputs": [],
      "source": [
        "!cp solution.csv \"/content/gdrive/MyDrive/Amalgam/\""
      ]
    },
    {
      "cell_type": "code",
      "execution_count": null,
      "metadata": {
        "id": "K6RW4tabbqMG"
      },
      "outputs": [],
      "source": []
    }
  ],
  "metadata": {
    "accelerator": "GPU",
    "colab": {
      "provenance": []
    },
    "kernelspec": {
      "display_name": "Python 3",
      "language": "python",
      "name": "python3"
    },
    "language_info": {
      "name": "python",
      "version": "3.10.1 (tags/v3.10.1:2cd268a, Dec  6 2021, 19:10:37) [MSC v.1929 64 bit (AMD64)]"
    },
    "vscode": {
      "interpreter": {
        "hash": "04eb5fd3382f5ae6ecd8e5ea5943a43c2b77f84302c9ef3aee2bb26e0a62d38e"
      }
    }
  },
  "nbformat": 4,
  "nbformat_minor": 0
}
