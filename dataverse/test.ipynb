{
  "nbformat": 4,
  "nbformat_minor": 0,
  "metadata": {
    "colab": {
      "provenance": [],
      "private_outputs": true,
      "toc_visible": true
    },
    "kernelspec": {
      "name": "python3",
      "display_name": "Python 3"
    },
    "language_info": {
      "name": "python"
    },
    "accelerator": "TPU",
    "gpuClass": "standard"
  },
  "cells": [
    {
      "cell_type": "code",
      "execution_count": null,
      "metadata": {
        "id": "a89HEqkYViQu"
      },
      "outputs": [],
      "source": [
        "import pandas as pd\n",
        "import numpy as np\n",
        "from sklearn.model_selection import train_test_split\n",
        "from sklearn.naive_bayes import MultinomialNB\n",
        "import re\n",
        "import nltk\n",
        "from nltk.corpus import stopwords\n",
        "from nltk.tokenize import word_tokenize\n",
        "import seaborn as sns\n",
        "from sklearn.feature_extraction.text import TfidfVectorizer\n",
        "from sklearn.metrics import classification_report, accuracy_score\n",
        "from sklearn.impute import SimpleImputer\n"
      ]
    },
    {
      "cell_type": "code",
      "source": [
        "from google.colab import drive\n",
        "drive.mount('/content/drive')\n"
      ],
      "metadata": {
        "id": "CDS2yKPxWFPD"
      },
      "execution_count": null,
      "outputs": []
    },
    {
      "cell_type": "code",
      "source": [
        "train_df = pd.read_csv('/content/drive/MyDrive/dataverse/train.csv')\n",
        "# test_df = pd.read_csv('/content/drive/MyDrive/dataverse/test.csv')\n",
        "train_df.head() #predection garna matra use garne at last\n",
        "\n",
        "# train_df.head()\n",
        "# sns.countplot(train_df['category'])\n"
      ],
      "metadata": {
        "id": "t6lADiUfgLat"
      },
      "execution_count": null,
      "outputs": []
    },
    {
      "cell_type": "code",
      "source": [
        "train_df.dropna(axis=0,inplace=True)"
      ],
      "metadata": {
        "id": "0WeHuH4xn-IT"
      },
      "execution_count": null,
      "outputs": []
    },
    {
      "cell_type": "code",
      "source": [
        "# train_df.isnull().all()"
      ],
      "metadata": {
        "id": "FctDDlivin0u"
      },
      "execution_count": null,
      "outputs": []
    },
    {
      "cell_type": "code",
      "source": [
        "# train_df.loc[:,'id']"
      ],
      "metadata": {
        "id": "fAiGaw9mZR9d"
      },
      "execution_count": null,
      "outputs": []
    },
    {
      "cell_type": "code",
      "source": [
        "# count=train_df.category.unique().size\n",
        "# freq =train_df.category.value_counts()\n",
        "# freq\n",
        "\n"
      ],
      "metadata": {
        "id": "1SJX35LibSaZ"
      },
      "execution_count": null,
      "outputs": []
    },
    {
      "cell_type": "markdown",
      "source": [
        "Oversampling and undersampling"
      ],
      "metadata": {
        "id": "ifiWe9Jf5UsE"
      }
    },
    {
      "cell_type": "code",
      "source": [
        "# freq.plot(kind='bar')"
      ],
      "metadata": {
        "id": "Y0eOc1JCcLE8"
      },
      "execution_count": null,
      "outputs": []
    },
    {
      "cell_type": "markdown",
      "source": [],
      "metadata": {
        "id": "1IibIsg76Cry"
      }
    },
    {
      "cell_type": "code",
      "source": [
        "# df = train_df.drop(['id'],axis=1)\n"
      ],
      "metadata": {
        "id": "WVn1sDr694nB"
      },
      "execution_count": null,
      "outputs": []
    },
    {
      "cell_type": "code",
      "source": [
        "df=train_df"
      ],
      "metadata": {
        "id": "mXwP4pqbogMi"
      },
      "execution_count": null,
      "outputs": []
    },
    {
      "cell_type": "code",
      "source": [
        "df.dropna(axis=0,inplace=True)"
      ],
      "metadata": {
        "id": "nzrCiryjiOVU"
      },
      "execution_count": null,
      "outputs": []
    },
    {
      "cell_type": "code",
      "source": [
        "df.isnull().all()"
      ],
      "metadata": {
        "id": "P6oFyqDTbR_M"
      },
      "execution_count": null,
      "outputs": []
    },
    {
      "cell_type": "code",
      "source": [
        "train_df = df.drop(['category'],axis=1)\n"
      ],
      "metadata": {
        "id": "55TIQtJz-zOd"
      },
      "execution_count": null,
      "outputs": []
    },
    {
      "cell_type": "code",
      "source": [
        "train_df.isnull().all()"
      ],
      "metadata": {
        "id": "WAdcVpTWiWfG"
      },
      "execution_count": null,
      "outputs": []
    },
    {
      "cell_type": "code",
      "source": [
        "x_train,x_test,y_train,y_test=train_test_split(train_df,df.category)"
      ],
      "metadata": {
        "id": "1-tVX6hogZrP"
      },
      "execution_count": null,
      "outputs": []
    },
    {
      "cell_type": "code",
      "source": [
        "# x_train"
      ],
      "metadata": {
        "id": "60C6BBCo-lnt"
      },
      "execution_count": null,
      "outputs": []
    },
    {
      "cell_type": "code",
      "source": [
        "# y_train"
      ],
      "metadata": {
        "id": "UFBOj-B_-uBi"
      },
      "execution_count": null,
      "outputs": []
    },
    {
      "cell_type": "code",
      "source": [
        "# x_test"
      ],
      "metadata": {
        "id": "005np6Ev_R3q"
      },
      "execution_count": null,
      "outputs": []
    },
    {
      "cell_type": "code",
      "source": [
        "# y_test"
      ],
      "metadata": {
        "id": "b5Y65XHs_UM2"
      },
      "execution_count": null,
      "outputs": []
    },
    {
      "cell_type": "code",
      "source": [],
      "metadata": {
        "id": "m2Nrn3au9lyZ"
      },
      "execution_count": null,
      "outputs": []
    },
    {
      "cell_type": "code",
      "source": [
        "# x_train.shape,y_train.shape"
      ],
      "metadata": {
        "id": "Mti-QRYgZqY7"
      },
      "execution_count": null,
      "outputs": []
    },
    {
      "cell_type": "code",
      "source": [
        "# len(x_train),len(y_train)"
      ],
      "metadata": {
        "id": "lJ3dn_6RibQL"
      },
      "execution_count": null,
      "outputs": []
    },
    {
      "cell_type": "markdown",
      "source": [
        "\n",
        "Preprocessing\n",
        "1. nan value hataune\n",
        "2. re clean\n",
        "3. data balance\n",
        "4. oversampling and undersampling\n",
        "5. stemming and lammetaization\n",
        "6. stopwords haru remove garne\n",
        "7. spit garne(done)\n",
        "8. neural network banaune (dense)\n",
        "9. history:accuracy_score,validations core herne\n",
        "10. visualization of training\n",
        "11. overfitting ra underfitting herne\n",
        "12. If xa bhane hyperparemets tune agrne\n",
        "13.  test data set ma predection garne"
      ],
      "metadata": {
        "id": "yYtQ-4yk_ef2"
      }
    },
    {
      "cell_type": "code",
      "source": [
        "#tokenization\n",
        "#remove of the ors and useless words\n",
        "#convert into vectorized form\n",
        "vectorizer=TfidfVectorizer(stop_words=\"english\",max_features=1000) #keep as small as possible\n",
        "#it will take top 1000 most freqeunet words and only consider those other are replaced\n",
        "vectorizer.fit(x_train)"
      ],
      "metadata": {
        "id": "hu883NQssysq"
      },
      "execution_count": null,
      "outputs": []
    },
    {
      "cell_type": "code",
      "source": [
        "# x_train.isnull().all()"
      ],
      "metadata": {
        "id": "tADirBOC3BAv"
      },
      "execution_count": null,
      "outputs": []
    },
    {
      "cell_type": "code",
      "source": [
        "\n",
        "# x_train.shape,y_train.shape"
      ],
      "metadata": {
        "id": "yvKFJqwoLlg1"
      },
      "execution_count": null,
      "outputs": []
    },
    {
      "cell_type": "code",
      "source": [
        "# y_train.isnull().values.any()"
      ],
      "metadata": {
        "id": "7qvePeTNT7SV"
      },
      "execution_count": null,
      "outputs": []
    },
    {
      "cell_type": "code",
      "source": [
        "# y_train.isnull().values.any()"
      ],
      "metadata": {
        "id": "ycbg4M6RUYQr"
      },
      "execution_count": null,
      "outputs": []
    },
    {
      "cell_type": "code",
      "source": [
        "#build model\n",
        "cls=MultinomialNB()\n",
        "# cls.fit(vectorizer.transform(x_train),y_train)"
      ],
      "metadata": {
        "id": "NQwzbHu-yXhQ"
      },
      "execution_count": null,
      "outputs": []
    },
    {
      "cell_type": "code",
      "source": [
        "# vectorizer.fit(x_train)\n",
        "# x_train_vectorized = vectorizer.transform(x_train)"
      ],
      "metadata": {
        "id": "4MTTaXvzNY9U"
      },
      "execution_count": null,
      "outputs": []
    },
    {
      "cell_type": "code",
      "source": [
        "cls.fit(vectorizer.transform(x_train.abstract), y_train)"
      ],
      "metadata": {
        "id": "P8kaIImnNiFk"
      },
      "execution_count": null,
      "outputs": []
    },
    {
      "cell_type": "code",
      "source": [
        "y_pred=cls.predict(vectorizer.transform(x_test.abstract))\n",
        "print(accuracy_score(y_test,y_pred))\n",
        "print(classification_report(y_test,y_pred))"
      ],
      "metadata": {
        "id": "mUoMgCLr1ev7"
      },
      "execution_count": null,
      "outputs": []
    },
    {
      "cell_type": "code",
      "source": [
        "\n",
        "# # Use the classifier to make predictions on the test data\n",
        "# predictions = cls.predict(vectorizer.transform(x_test.abstract))\n",
        "\n",
        "# # Print the accuracy of the classifier using the true labels and the predictions\n",
        "# print(\"Accuracy:\", accuracy_score(y_test, predictions))\n",
        "\n",
        "# # Print a classification report with evaluation metrics for all classes\n",
        "# print(\"Classification Report:\\n\", classification_report(y_test, predictions))"
      ],
      "metadata": {
        "id": "CLGi2JUTXPnw"
      },
      "execution_count": null,
      "outputs": []
    },
    {
      "cell_type": "code",
      "source": [],
      "metadata": {
        "id": "SePZuQaUJXcg"
      },
      "execution_count": null,
      "outputs": []
    },
    {
      "cell_type": "code",
      "source": [
        "# imputer=SimpleImputer(missing_values=np.nan,strategy='mean')\n",
        "# imputer = imputer.fit(x_train.iloc[:, 1:3])\n",
        "# x_train.iloc[:, 1:3] = imputer.transform(x_train.iloc[:, 1:3])"
      ],
      "metadata": {
        "id": "kaA0NYy2JeJy"
      },
      "execution_count": null,
      "outputs": []
    },
    {
      "cell_type": "code",
      "source": [
        "len(y_pred),len(x_test)\n",
        "x_test.head()"
      ],
      "metadata": {
        "id": "HAaB8U_llr8N"
      },
      "execution_count": null,
      "outputs": []
    },
    {
      "cell_type": "code",
      "source": [
        "df1=x_test[\"id\"].copy()"
      ],
      "metadata": {
        "id": "7ejmUrr8Jq41"
      },
      "execution_count": null,
      "outputs": []
    },
    {
      "cell_type": "code",
      "source": [
        "df1"
      ],
      "metadata": {
        "id": "hPpz9l7HlMbD"
      },
      "execution_count": null,
      "outputs": []
    },
    {
      "cell_type": "code",
      "source": [
        "df1[\"category\"]=y_pred\n"
      ],
      "metadata": {
        "id": "2eLLwt6ttjeF"
      },
      "execution_count": null,
      "outputs": []
    },
    {
      "cell_type": "code",
      "source": [
        "df2=pd.DataFrame(y_pred)\n"
      ],
      "metadata": {
        "id": "xwXNJo53uvJi"
      },
      "execution_count": null,
      "outputs": []
    },
    {
      "cell_type": "code",
      "source": [
        "df3=df1+df2"
      ],
      "metadata": {
        "id": "AWVIQIdNvEgZ"
      },
      "execution_count": null,
      "outputs": []
    },
    {
      "cell_type": "code",
      "source": [
        "df3"
      ],
      "metadata": {
        "id": "Ix5zOsmBtw-i"
      },
      "execution_count": null,
      "outputs": []
    },
    {
      "cell_type": "code",
      "source": [
        "df3.shape"
      ],
      "metadata": {
        "id": "JfDRUvO5t3pX"
      },
      "execution_count": null,
      "outputs": []
    },
    {
      "cell_type": "code",
      "source": [],
      "metadata": {
        "id": "wXJorMQbtyzA"
      },
      "execution_count": null,
      "outputs": []
    }
  ]
}