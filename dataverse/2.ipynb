{
  "cells": [
    {
      "cell_type": "code",
      "execution_count": null,
      "metadata": {
        "id": "a89HEqkYViQu"
      },
      "outputs": [],
      "source": [
        "import pandas as pd\n",
        "import numpy as np\n",
        "from sklearn.model_selection import train_test_split\n",
        "from sklearn.naive_bayes import MultinomialNB\n",
        "import re\n",
        "import nltk\n",
        "from nltk.corpus import stopwords\n",
        "from nltk.tokenize import word_tokenize\n",
        "import seaborn as sns\n",
        "from sklearn.feature_extraction.text import TfidfVectorizer\n",
        "from sklearn.metrics import classification_report, accuracy_score\n"
      ]
    },
    {
      "cell_type": "code",
      "execution_count": null,
      "metadata": {
        "id": "CDS2yKPxWFPD"
      },
      "outputs": [],
      "source": [
        "from google.colab import drive\n",
        "drive.mount('/content/drive')\n"
      ]
    },
    {
      "cell_type": "code",
      "execution_count": null,
      "metadata": {
        "id": "t6lADiUfgLat"
      },
      "outputs": [],
      "source": [
        "train_df = pd.read_csv('/content/drive/MyDrive/dataverse/train.csv')\n",
        "test_df = pd.read_csv('/content/drive/MyDrive/dataverse/test.csv')\n",
        "test_df.head() #predection garna matra use garne at last\n",
        "\n",
        "# train_df.head()\n",
        "# sns.countplot(train_df['category'])\n"
      ]
    },
    {
      "cell_type": "code",
      "execution_count": null,
      "metadata": {
        "id": "1SJX35LibSaZ"
      },
      "outputs": [],
      "source": [
        "count=train_df.category.unique().size\n",
        "freq =train_df.category.value_counts()\n",
        "freq\n",
        "\n"
      ]
    },
    {
      "cell_type": "markdown",
      "metadata": {
        "id": "ifiWe9Jf5UsE"
      },
      "source": [
        "Oversampling and undersampling"
      ]
    },
    {
      "cell_type": "code",
      "execution_count": null,
      "metadata": {
        "id": "Y0eOc1JCcLE8"
      },
      "outputs": [],
      "source": [
        "freq.plot(kind='bar')"
      ]
    },
    {
      "cell_type": "markdown",
      "metadata": {
        "id": "1IibIsg76Cry"
      },
      "source": []
    },
    {
      "cell_type": "code",
      "execution_count": null,
      "metadata": {
        "id": "WVn1sDr694nB"
      },
      "outputs": [],
      "source": [
        "df = train_df.drop(['id'],axis=1)"
      ]
    },
    {
      "cell_type": "code",
      "execution_count": null,
      "metadata": {
        "id": "55TIQtJz-zOd"
      },
      "outputs": [],
      "source": [
        "train_df = df.drop(['category'],axis=1)"
      ]
    },
    {
      "cell_type": "code",
      "execution_count": null,
      "metadata": {
        "id": "1-tVX6hogZrP"
      },
      "outputs": [],
      "source": [
        "x_train,x_test,y_train,y_test=train_test_split(train_df,df.category)"
      ]
    },
    {
      "cell_type": "code",
      "execution_count": null,
      "metadata": {
        "id": "60C6BBCo-lnt"
      },
      "outputs": [],
      "source": [
        "x_train"
      ]
    },
    {
      "cell_type": "code",
      "execution_count": null,
      "metadata": {
        "id": "UFBOj-B_-uBi"
      },
      "outputs": [],
      "source": [
        "y_train"
      ]
    },
    {
      "cell_type": "code",
      "execution_count": null,
      "metadata": {
        "id": "005np6Ev_R3q"
      },
      "outputs": [],
      "source": [
        "x_test"
      ]
    },
    {
      "cell_type": "code",
      "execution_count": null,
      "metadata": {
        "id": "b5Y65XHs_UM2"
      },
      "outputs": [],
      "source": [
        "y_test"
      ]
    },
    {
      "cell_type": "code",
      "execution_count": null,
      "metadata": {
        "id": "m2Nrn3au9lyZ"
      },
      "outputs": [],
      "source": [
        "x_train.shape"
      ]
    },
    {
      "cell_type": "code",
      "execution_count": null,
      "metadata": {
        "id": "lJ3dn_6RibQL"
      },
      "outputs": [],
      "source": [
        "len(x_train),len(x_test)"
      ]
    },
    {
      "cell_type": "markdown",
      "metadata": {
        "id": "yYtQ-4yk_ef2"
      },
      "source": [
        "\n",
        "Preprocessing\n",
        "1. nan value hataune\n",
        "2. re clean\n",
        "3. data balance\n",
        "4. oversampling and undersampling\n",
        "5. stemming and lammetaization\n",
        "6. stopwords haru remove garne\n",
        "7. spit garne(done)\n",
        "8. neural network banaune (dense)\n",
        "9. history:accuracy_score,validations core herne\n",
        "10. visualization of training\n",
        "11. overfitting ra underfitting herne\n",
        "12. If xa bhane hyperparemets tune agrne\n",
        "13.  test data set ma predection garne"
      ]
    },
    {
      "cell_type": "code",
      "execution_count": null,
      "metadata": {
        "id": "hu883NQssysq"
      },
      "outputs": [],
      "source": [
        "#tokenization\n",
        "#remove of the ors and useless words\n",
        "#convert into vectorized form\n",
        "vectorizer=TfidfVectorizer(stop_words=\"english\",max_features=1000) #keep as small as possible\n",
        "#it will take top 1000 most freqeunet words and only consider those other are replaced\n",
        "vectorizer.fit(x_train)"
      ]
    },
    {
      "cell_type": "code",
      "execution_count": null,
      "metadata": {
        "id": "tADirBOC3BAv"
      },
      "outputs": [],
      "source": [
        "x_train.isnull().all()"
      ]
    },
    {
      "cell_type": "code",
      "execution_count": null,
      "metadata": {
        "id": "NQwzbHu-yXhQ"
      },
      "outputs": [],
      "source": [
        "#build model\n",
        "cls=MultinomialNB()\n",
        "cls.fit(vectorizer.transform(x_train),y_train)"
      ]
    },
    {
      "cell_type": "code",
      "execution_count": null,
      "metadata": {
        "id": "mUoMgCLr1ev7"
      },
      "outputs": [],
      "source": [
        "y_pred=cls.predict(vectorizer.transform(x_test))\n",
        "print(accuracy_score(y_test,y_pred))\n",
        "print(classification_report(y_test,y_pred))"
      ]
    }
  ],
  "metadata": {
    "accelerator": "TPU",
    "colab": {
      "private_outputs": true,
      "provenance": []
    },
    "gpuClass": "standard",
    "kernelspec": {
      "display_name": "Python 3",
      "language": "python",
      "name": "python3"
    },
    "language_info": {
      "name": "python",
      "version": "3.10.1 (tags/v3.10.1:2cd268a, Dec  6 2021, 19:10:37) [MSC v.1929 64 bit (AMD64)]"
    },
    "vscode": {
      "interpreter": {
        "hash": "04eb5fd3382f5ae6ecd8e5ea5943a43c2b77f84302c9ef3aee2bb26e0a62d38e"
      }
    }
  },
  "nbformat": 4,
  "nbformat_minor": 0
}
