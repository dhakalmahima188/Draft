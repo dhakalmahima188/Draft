{
 "cells": [
  {
   "cell_type": "code",
   "execution_count": 1,
   "metadata": {},
   "outputs": [],
   "source": [
    "import numpy as np\n",
    "\n",
    "class Adaline:\n",
    "    def __init__(self, learning_rate=0.01, max_iter=100):\n",
    "        self.learning_rate = learning_rate\n",
    "        self.max_iter = max_iter\n",
    "    \n",
    "    def fit(self, X, y):\n",
    "        self.weights = np.random.rand(X.shape[1] + 1)\n",
    "        cost = []\n",
    "        for i in range(self.max_iter):\n",
    "            output = self.predict(X)\n",
    "            errors = y - output\n",
    "            self.weights[0] += self.learning_rate * errors.sum()\n",
    "            self.weights[1:] += self.learning_rate * X.T.dot(errors)\n",
    "            cost.append((errors ** 2).sum())\n",
    "            if cost[-1] < 0.001:\n",
    "                break\n",
    "        return self\n",
    "    \n",
    "    def predict(self, X):\n",
    "        return np.where(self.activation(X) >= 0, 1, -1)\n",
    "    \n",
    "    def activation(self, X):\n",
    "        return X.dot(self.weights[1:]) + self.weights[0]"
   ]
  },
  {
   "cell_type": "code",
   "execution_count": 2,
   "metadata": {},
   "outputs": [
    {
     "name": "stdout",
     "output_type": "stream",
     "text": [
      "-1\n"
     ]
    }
   ],
   "source": [
    "x1 = [1, 2, 3, 4, 5]\n",
    "x2 = [1, 3, 5, 7, 9]\n",
    "y = [1, -1, -1, 1, 1]\n",
    "X = np.array([x1, x2]).T\n",
    "y = np.array(y)\n",
    "model = Adaline()\n",
    "model.fit(X, y)\n",
    "x_test = np.array([6, 7])\n",
    "y_test = model.predict(x_test)\n",
    "print(y_test)"
   ]
  },
  {
   "cell_type": "code",
   "execution_count": null,
   "metadata": {},
   "outputs": [],
   "source": []
  }
 ],
 "metadata": {
  "kernelspec": {
   "display_name": "Python 3",
   "language": "python",
   "name": "python3"
  },
  "language_info": {
   "codemirror_mode": {
    "name": "ipython",
    "version": 3
   },
   "file_extension": ".py",
   "mimetype": "text/x-python",
   "name": "python",
   "nbconvert_exporter": "python",
   "pygments_lexer": "ipython3",
   "version": "3.10.1"
  },
  "orig_nbformat": 4,
  "vscode": {
   "interpreter": {
    "hash": "04eb5fd3382f5ae6ecd8e5ea5943a43c2b77f84302c9ef3aee2bb26e0a62d38e"
   }
  }
 },
 "nbformat": 4,
 "nbformat_minor": 2
}
