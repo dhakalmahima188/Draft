{
 "cells": [
  {
   "cell_type": "markdown",
   "id": "467d334c",
   "metadata": {},
   "source": [
    "1. **Initialize the weights:** Set the initial weights to small random values.\n",
    "2. **Provide inputs and desired outputs:** For each training example, provide the input values and the desired output value.\n",
    "3. **Calculate the weighted sum:** Multiply each input value by its corresponding weight, and calculate the sum of these products.\n",
    "4. **Apply the activation function:** The activation function for Adaline is the identity function, so the output of the neuron is simply the weighted sum from step 3.\n",
    "5. **Calculate the error:** Subtract the predicted output from the desired output to get the error.\n",
    "6. **Update the weights:** Use the Widrow-Hoff learning rule to update the weights, which involves multiplying the error by the input values and the learning rate, and then adding the result to the current weights.\n",
    "7. **Repeat:** Repeat steps 3-6 for all training examples, and then repeat the entire process for a fixed number of epochs or until the error falls below a certain threshold.\n",
    "8. **Test the model:** Once the weights have been learned, apply the model to new input data to make predictions.\n"
   ]
  },
  {
   "cell_type": "code",
   "execution_count": 1,
   "id": "7faa439c",
   "metadata": {},
   "outputs": [],
   "source": [
    "import numpy as np\n",
    "from tqdm import tqdm"
   ]
  },
  {
   "cell_type": "code",
   "execution_count": 121,
   "id": "45c2c6c6",
   "metadata": {},
   "outputs": [],
   "source": [
    "# And function\n",
    "data = np.asarray([\n",
    "    [1, 1, 1],\n",
    "    [1, 0, -1],\n",
    "    [0, 1, -1],\n",
    "    [0, 0, -1],\n",
    "])\n",
    "\n",
    "# input and output\n",
    "X = np.asarray(data[:, 0:2]).reshape(-1, 2)\n",
    "Y = np.asarray(data[:, 2]).reshape(-1, 1)\n"
   ]
  },
  {
   "cell_type": "code",
   "execution_count": 122,
   "id": "7c31780c",
   "metadata": {},
   "outputs": [],
   "source": [
    "## normalizing the data\n",
    "# Normalize the data\n",
    "# X_train = (X - X.mean()) / X.std()\n",
    "\n",
    "# Y_train = (Y - Y.mean()) / Y.std()"
   ]
  },
  {
   "cell_type": "code",
   "execution_count": 130,
   "id": "9e8439eb",
   "metadata": {},
   "outputs": [
    {
     "name": "stderr",
     "output_type": "stream",
     "text": [
      "100%|███████████████████████████████████████| 100/100 [00:00<00:00, 4102.89it/s]\n"
     ]
    }
   ],
   "source": [
    "# hyper-params\n",
    "nepochs = 100\n",
    "lr = 0.1\n",
    "\n",
    "# Weights initialization\n",
    "weight_shape = X.shape[1]\n",
    "# initialize weights based on number of features in the data\n",
    "w = np.random.randn(2)\n",
    "b = np.random.randn(1)\n",
    "\n",
    "error = np.inf\n",
    "tolerance = 1e-3\n",
    "\n",
    "\n",
    "for epoch in tqdm(range(nepochs), position=0, leave=True):\n",
    "    for i, x in enumerate(X):\n",
    "        y = Y[i]\n",
    "        y_hat = np.dot(x, w) + b\n",
    "        error = y - y_hat\n",
    "        mean_error = np.mean(abs(error))\n",
    "\n",
    "        # update w and b\n",
    "        delta_w = lr * error * x\n",
    "        w += delta_w\n",
    "        b += lr * error\n",
    "\n",
    "#     tqdm.write(f\"Epoch {epoch + 1}: MSE = {mean_error:.2f}\", nolock=True)\n",
    "\n",
    "\n",
    "\n"
   ]
  },
  {
   "cell_type": "code",
   "execution_count": 136,
   "id": "116d43f2",
   "metadata": {},
   "outputs": [
    {
     "data": {
      "text/plain": [
       "array([-1])"
      ]
     },
     "execution_count": 136,
     "metadata": {},
     "output_type": "execute_result"
    }
   ],
   "source": [
    "\n",
    "# predict\n",
    "\n",
    "activation = lambda x : np.where(x >= 0, 1, -1)\n",
    "def predict(x):\n",
    "    x = np.asarray(x)\n",
    "    assert x.shape == (2,)\n",
    "    return activation(x.dot(w) + b)\n",
    "\n",
    "predict([-1, -1])"
   ]
  },
  {
   "cell_type": "code",
   "execution_count": null,
   "id": "ce77c7b7",
   "metadata": {},
   "outputs": [],
   "source": []
  },
  {
   "cell_type": "code",
   "execution_count": null,
   "id": "42b000d0",
   "metadata": {},
   "outputs": [],
   "source": []
  }
 ],
 "metadata": {
  "kernelspec": {
   "display_name": "Python 3 (ipykernel)",
   "language": "python",
   "name": "python3"
  },
  "language_info": {
   "codemirror_mode": {
    "name": "ipython",
    "version": 3
   },
   "file_extension": ".py",
   "mimetype": "text/x-python",
   "name": "python",
   "nbconvert_exporter": "python",
   "pygments_lexer": "ipython3",
   "version": "3.8.13"
  }
 },
 "nbformat": 4,
 "nbformat_minor": 5
}
