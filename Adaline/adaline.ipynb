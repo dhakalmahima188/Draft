{
 "cells": [
  {
   "cell_type": "code",
   "execution_count": 1,
   "metadata": {},
   "outputs": [],
   "source": [
    "import numpy as np\n",
    "# Attendance\n",
    "attendance = [90, 95, 80, 85, 70, 65, 75, 50, 60, 40]\n",
    "# Quiz Scores\n",
    "quiz_scores = [85, 90, 80, 75, 70, 65, 80, 50, 60, 30]\n",
    "# Final Grades\n",
    "grades = [85, 90, 80, 75, 70, 65, 80, 50, 60, 30]"
   ]
  },
  {
   "cell_type": "code",
   "execution_count": 2,
   "metadata": {},
   "outputs": [],
   "source": [
    "X = np.array([attendance, quiz_scores]).T\n",
    "y = np.array(grades)"
   ]
  },
  {
   "cell_type": "code",
   "execution_count": 7,
   "metadata": {},
   "outputs": [],
   "source": [
    "class Adaline:\n",
    "    def __init__(self, learning_rate=0.01, max_iter=100):\n",
    "        self.learning_rate = learning_rate\n",
    "        self.max_iter = max_iter\n",
    "    \n",
    "    def fit(self, X, y):\n",
    "        self.weights = np.random.rand(X.shape[1] + 1)\n",
    "        cost = []\n",
    "        for i in range(self.max_iter):\n",
    "            output = self.predict(X)\n",
    "            errors = y - output\n",
    "            self.weights[0] += self.learning_rate * errors.sum()\n",
    "            self.weights[1:] += self.learning_rate * X.T.dot(errors)\n",
    "            cost.append((errors ** 2).sum())\n",
    "            if cost[-1] < 0.001:\n",
    "                break\n",
    "        return self\n",
    "    \n",
    "    def predict(self, X):\n",
    "        return np.where(self.activation(X) >= 0, 1, -1)\n",
    "    \n",
    "    def activation(self, X):\n",
    "        return X.dot(self.weights[1:]) + self.weights[0]\n"
   ]
  },
  {
   "cell_type": "code",
   "execution_count": 8,
   "metadata": {},
   "outputs": [
    {
     "data": {
      "text/plain": [
       "<__main__.Adaline at 0x1c33437eef0>"
      ]
     },
     "execution_count": 8,
     "metadata": {},
     "output_type": "execute_result"
    }
   ],
   "source": [
    "X = np.array([attendance, quiz_scores]).T\n",
    "y = np.array(grades)\n",
    "model = Adaline()\n",
    "model.fit(X, y)"
   ]
  },
  {
   "cell_type": "code",
   "execution_count": 11,
   "metadata": {},
   "outputs": [
    {
     "name": "stdout",
     "output_type": "stream",
     "text": [
      "Predicted grade: 1\n"
     ]
    }
   ],
   "source": [
    "new_attendance = 80\n",
    "new_quiz_score = 70\n",
    "new_data = np.array([new_attendance, new_quiz_score]).reshape(1, -1)\n",
    "new_grade = model.predict(new_data)\n",
    "\n",
    "print(f\"Predicted grade: {new_grade[0]}\")"
   ]
  },
  {
   "cell_type": "code",
   "execution_count": 10,
   "metadata": {},
   "outputs": [
    {
     "data": {
      "image/png": "[encoded data removed]",
      "text/plain": [
       "<Figure size 640x480 with 1 Axes>"
      ]
     },
     "metadata": {},
     "output_type": "display_data"
    }
   ],
   "source": [
    "import matplotlib.pyplot as plt\n",
    "\n",
    "# Plot input data\n",
    "plt.scatter(attendance, quiz_scores, c=grades)\n",
    "plt.xlabel(\"Attendance\")\n",
    "plt.ylabel(\"Quiz Scores\")\n",
    "\n",
    "# Plot decision boundary\n",
    "x_min, x_max = plt.xlim()\n",
    "y_min, y_max = plt.ylim()\n",
    "xx, yy = np.meshgrid(np.arange(x_min, x_max, 0.1), np.arange(y_min, y_max, 0.1))\n",
    "Z = model.predict(np.c_[xx.ravel(), yy.ravel()])\n",
    "Z = Z.reshape(xx.shape)\n",
    "plt.contourf(xx, yy, Z, alpha=0.4)\n",
    "\n",
    "plt.show()"
   ]
  },
  {
   "cell_type": "code",
   "execution_count": 15,
   "metadata": {},
   "outputs": [
    {
     "name": "stdout",
     "output_type": "stream",
     "text": [
      "Predicted grade: 1\n"
     ]
    }
   ],
   "source": [
    "from sklearn.preprocessing import StandardScaler\n",
    "\n",
    "# Scale the input features\n",
    "scaler = StandardScaler()\n",
    "X = scaler.fit_transform(np.array([attendance, quiz_scores]).T)\n",
    "y = grades\n",
    "\n",
    "# Initialize Adaline model\n",
    "model = Adaline(learning_rate=0.01, max_iter=1000)\n",
    "\n",
    "# Fit the model to the data\n",
    "model.fit(X, y)\n",
    "\n",
    "# Make predictions on new data\n",
    "new_attendance = 80\n",
    "new_quiz_scores = 70\n",
    "X_new = scaler.transform(np.array([[new_attendance, new_quiz_scores]]))\n",
    "predicted_grade = model.predict(X_new)[0]\n",
    "\n",
    "print(\"Predicted grade: {}\".format(predicted_grade))"
   ]
  },
  {
   "cell_type": "code",
   "execution_count": null,
   "metadata": {},
   "outputs": [],
   "source": []
  }
 ],
 "metadata": {
  "kernelspec": {
   "display_name": "Python 3",
   "language": "python",
   "name": "python3"
  },
  "language_info": {
   "codemirror_mode": {
    "name": "ipython",
    "version": 3
   },
   "file_extension": ".py",
   "mimetype": "text/x-python",
   "name": "python",
   "nbconvert_exporter": "python",
   "pygments_lexer": "ipython3",
   "version": "3.10.1"
  },
  "orig_nbformat": 4,
  "vscode": {
   "interpreter": {
    "hash": "04eb5fd3382f5ae6ecd8e5ea5943a43c2b77f84302c9ef3aee2bb26e0a62d38e"
   }
  }
 },
 "nbformat": 4,
 "nbformat_minor": 2
}
