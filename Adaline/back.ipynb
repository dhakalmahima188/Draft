{
 "cells": [
  {
   "cell_type": "code",
   "execution_count": 6,
   "metadata": {},
   "outputs": [
    {
     "data": {
      "image/png": "[encoded data removed]",
      "text/plain": [
       "<Figure size 640x480 with 1 Axes>"
      ]
     },
     "metadata": {},
     "output_type": "display_data"
    },
    {
     "name": "stdout",
     "output_type": "stream",
     "text": [
      "X: [0 0], y_pred: [0.08062016]\n",
      "X: [0 1], y_pred: [0.90377611]\n",
      "X: [1 0], y_pred: [0.90386285]\n",
      "X: [1 1], y_pred: [0.12683061]\n"
     ]
    }
   ],
   "source": [
    "#This code trains a neural network to solve the XOR problem and then tests it on the same data.#\n",
    "\n",
    "import numpy as np\n",
    "import matplotlib.pyplot as plt\n",
    "\n",
    "class NeuralNetwork:\n",
    "    def __init__(self, input_size, hidden_size, output_size):\n",
    "        self.input_size = input_size\n",
    "        self.hidden_size = hidden_size\n",
    "        self.output_size = output_size\n",
    "        \n",
    "        # Initialize weights randomly\n",
    "        self.weights1 = np.random.randn(hidden_size, input_size+1)\n",
    "        self.weights2 = np.random.randn(output_size, hidden_size+1)\n",
    "    \n",
    "    def sigmoid(self, x):\n",
    "        return 1 / (1 + np.exp(-x))\n",
    "    \n",
    "    def sigmoid_prime(self, x):\n",
    "        return self.sigmoid(x) * (1 - self.sigmoid(x))\n",
    "    \n",
    "    def forward(self, x):\n",
    "        # Add bias term to input\n",
    "        x = np.hstack((1, x))\n",
    "        \n",
    "        # Compute hidden layer activations\n",
    "        a1 = np.dot(self.weights1, x)\n",
    "        z1 = self.sigmoid(a1)\n",
    "        \n",
    "        # Add bias term to hidden layer\n",
    "        z1 = np.hstack((1, z1))\n",
    "        \n",
    "        # Compute output layer activations\n",
    "        a2 = np.dot(self.weights2, z1)\n",
    "        z2 = self.sigmoid(a2)\n",
    "        \n",
    "        return z2\n",
    "    \n",
    "    def backward(self, x, y, alpha):\n",
    "        # Add bias term to input\n",
    "        x = np.hstack((1, x))\n",
    "        \n",
    "        # Compute hidden layer activations\n",
    "        a1 = np.dot(self.weights1, x)\n",
    "        z1 = self.sigmoid(a1)\n",
    "        \n",
    "        # Add bias term to hidden layer\n",
    "        z1 = np.hstack((1, z1))\n",
    "        \n",
    "        # Compute output layer activations\n",
    "        a2 = np.dot(self.weights2, z1)\n",
    "        z2 = self.sigmoid(a2)\n",
    "        \n",
    "        # Compute output layer error\n",
    "        delta2 = (z2 - y) * self.sigmoid_prime(a2)\n",
    "        \n",
    "        # Compute hidden layer error\n",
    "        delta1 = np.dot(self.weights2.T[1:], delta2) * self.sigmoid_prime(a1)\n",
    "        \n",
    "        # Update weights\n",
    "        self.weights2 -= alpha * np.outer(delta2, z1)\n",
    "        self.weights1 -= alpha * np.outer(delta1, x)\n",
    "\n",
    "# Define the training data\n",
    "X = np.array([[0, 0], [0, 1], [1, 0], [1, 1]])\n",
    "y = np.array([0, 1, 1, 0])\n",
    "\n",
    "# Create a neural network with 2 input nodes, 2 hidden nodes, and 1 output node\n",
    "nn = NeuralNetwork(2, 2, 1)\n",
    "\n",
    "# Train the neural network\n",
    "epochs = 5000\n",
    "alpha = 0.1\n",
    "error_history = []\n",
    "\n",
    "for i in range(epochs):\n",
    "    error = 0\n",
    "    \n",
    "    for j in range(len(X)):\n",
    "        # Forward pass\n",
    "        y_pred = nn.forward(X[j])\n",
    "        \n",
    "        # Backward pass\n",
    "        nn.backward(X[j], y[j], alpha)\n",
    "        \n",
    "        # Compute error\n",
    "        error += (y[j] - y_pred) ** 2\n",
    "    \n",
    "    error_history.append(error)\n",
    "\n",
    "# Plot the error over time\n",
    "plt.plot(error_history)\n",
    "plt.xlabel('Epoch')\n",
    "plt.ylabel('Error')\n",
    "plt.show()\n",
    "\n",
    "# Test the neural network on the XOR problem\n",
    "for i in range(len(X)):\n",
    "    y_pred = nn.forward(X[i])\n",
    "    print(f\"X: {X[i]}, y_pred: {y_pred}\")    \n"
   ]
  },
  {
   "cell_type": "code",
   "execution_count": null,
   "metadata": {},
   "outputs": [],
   "source": []
  }
 ],
 "metadata": {
  "kernelspec": {
   "display_name": "Python 3",
   "language": "python",
   "name": "python3"
  },
  "language_info": {
   "codemirror_mode": {
    "name": "ipython",
    "version": 3
   },
   "file_extension": ".py",
   "mimetype": "text/x-python",
   "name": "python",
   "nbconvert_exporter": "python",
   "pygments_lexer": "ipython3",
   "version": "3.10.1"
  },
  "orig_nbformat": 4,
  "vscode": {
   "interpreter": {
    "hash": "04eb5fd3382f5ae6ecd8e5ea5943a43c2b77f84302c9ef3aee2bb26e0a62d38e"
   }
  }
 },
 "nbformat": 4,
 "nbformat_minor": 2
}
