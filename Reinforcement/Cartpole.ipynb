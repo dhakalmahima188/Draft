{
 "cells": [
  {
   "cell_type": "code",
   "execution_count": 1,
   "id": "23e7c8f9",
   "metadata": {},
   "outputs": [],
   "source": [
    "import numpy as np\n",
    "import torch\n",
    "import torch.nn as nn\n",
    "import torch.optim as optim\n",
    "import torch.nn.functional as F\n",
    "\n",
    "device = torch.device(\"cuda\" if torch.cuda.is_available() else \"cpu\")"
   ]
  },
  {
   "cell_type": "code",
   "execution_count": 2,
   "id": "737414e3",
   "metadata": {},
   "outputs": [],
   "source": [
    "import random \n",
    "import gymnasium as gym"
   ]
  },
  {
   "cell_type": "code",
   "execution_count": 3,
   "id": "df7cc8b5",
   "metadata": {},
   "outputs": [],
   "source": [
    "# for displaying result\n",
    "\n",
    "import os\n",
    "import matplotlib.pyplot as plt\n",
    "os.environ[\"SDL_VIDEODRIVER\"] = \"dummy\"\n",
    "from IPython.display import clear_output\n",
    "from IPython import display\n"
   ]
  },
  {
   "cell_type": "markdown",
   "id": "c896b1d0",
   "metadata": {},
   "source": [
    "### Algorithm\n",
    "1. Initialize replay memory <br>\n",
    "2. Initialize action-value function Q with random weights <br>\n",
    "3. Initialize target action-value function Q' with the same weights as Q<br>\n",
    "4. For each episode:\n",
    "    a. Reset environment to initial state<br>\n",
    "    b. For each time step:<br>\n",
    "    i. With probability epsilon select a random action, otherwise <br>select the action with the highest Q-value<br>\n",
    "    ii. Execute the selected action in the environment and observe<br> the next state and reward<br>\n",
    "    iii. Store the transition in replay memory<br>\n",
    "    iv. Sample a random mini-batch of transitions from replay memory<br>\n",
    "    v. Calculate the target Q-value for each transition<br>\n",
    "    vi. Update the weights of the Q function using the mini-batch of transitions and the calculated target Q-values<br>\n",
    "    vii. Every C steps, update the target Q function by copying the weights from Q to Q'<br>\n",
    "    c. End episode when environment is done<br>"
   ]
  },
  {
   "cell_type": "markdown",
   "id": "75b292b1",
   "metadata": {},
   "source": [
    "### Replay Memory"
   ]
  },
  {
   "cell_type": "markdown",
   "id": "c44a15ab",
   "metadata": {},
   "source": [
    "\n",
    "This is a data structure to store the experience tuples (state, action, reward, next state) \n",
    "that the agent observes. The size of the replay memory is typically limited, and old experiences are \n",
    "replaced by new ones.\n"
   ]
  },
  {
   "cell_type": "code",
   "execution_count": 4,
   "id": "3e8826c4",
   "metadata": {},
   "outputs": [],
   "source": [
    "\n",
    "class ReplayMemory():\n",
    "    def __init__(self, capacity):\n",
    "        self.capacity = capacity\n",
    "        \n",
    "        self.memory = []\n",
    "        \n",
    "    def push(self, state, action, reward, next_state, done):\n",
    "        data = (state, action, reward, next_state, done)\n",
    "        self.memory.append(data)\n",
    "        # replace old experience, if memory is full\n",
    "        if (len(self.memory) > self.capacity):\n",
    "            self.memory.pop(0) \n",
    "    \n",
    "    def get_batch(self, batch_size):\n",
    "        experiences = random.sample(self.memory, batch_size)\n",
    "        \n",
    "        states = torch.from_numpy(np.vstack([e[0] for e in experiences if e is not None])).float().to(device)\n",
    "        actions = torch.from_numpy(np.vstack([e[1] for e in experiences if e is not None])).long().to(device)\n",
    "        rewards = torch.from_numpy(np.vstack([e[2] for e in experiences if e is not None])).float().to(device)\n",
    "        next_states = torch.from_numpy(np.vstack([e[3] for e in experiences if e is not None])).float().to(device)\n",
    "        dones = torch.from_numpy(np.vstack([e[4] for e in experiences if e is not None]).astype(np.uint8)).float().to(device)\n",
    "        \n",
    "        return states, actions, rewards, next_states, dones\n",
    "    \n",
    "    def __len__(self):\n",
    "        return len(self.memory)\n",
    "        "
   ]
  },
  {
   "cell_type": "markdown",
   "id": "8a858cd3",
   "metadata": {},
   "source": [
    "### Action-value Function"
   ]
  },
  {
   "cell_type": "markdown",
   "id": "21f16b27",
   "metadata": {},
   "source": [
    "This is a neural network that takes a state as input and outputs the Q-value for each action. The weights of the neural network are initialized randomly.\n",
    "\n",
    "They are of 2 types:\n",
    "\n",
    "1. Action-value function Q \n",
    "2. Target Action-value function Q':\n",
    "   This is a copy of the Q neural network with the same weights. It is used to calculate the target Q-values for the update step."
   ]
  },
  {
   "cell_type": "code",
   "execution_count": 5,
   "id": "567f0eb5",
   "metadata": {},
   "outputs": [],
   "source": [
    "class QNet(nn.Module):\n",
    "    def __init__(self, state_size, action_size):\n",
    "        super(QNet, self).__init__()\n",
    "        self.fc1 = nn.Linear(state_size, 64)\n",
    "        self.fc2 = nn.Linear(64, 64)\n",
    "        self.fc3 = nn.Linear(64, action_size)\n",
    "        \n",
    "    def forward(self, state):\n",
    "        x = torch.relu(self.fc1(state))\n",
    "        x = torch.relu(self.fc2(x))\n",
    "        x = self.fc3(x)\n",
    "        return x\n",
    "\n",
    "# as q` gets its weight from q, let's make a utility update function\n",
    "\n",
    "def update_weights(q, q_):\n",
    "    q_.load_state_dict(q.state_dict())"
   ]
  },
  {
   "cell_type": "markdown",
   "id": "73f31fd2",
   "metadata": {},
   "source": [
    "#### Description\n",
    "This environment corresponds to the version of the cart-pole problem described by Barto, Sutton, and Anderson in “Neuronlike Adaptive Elements That Can Solve Difficult Learning Control Problem”. A pole is attached by an un-actuated joint to a cart, which moves along a frictionless track. The pendulum is placed upright on the cart and the goal is to balance the pole by applying forces in the left and right direction on the cart.\n",
    "\n",
    "#### Action Space\n",
    "The action is a ndarray with shape (1,) which can take values {0, 1} indicating the direction of the fixed force the cart is pushed with.\n",
    "\n",
    "0: Push cart to the left\n",
    "1: Push cart to the right\n",
    "\n",
    "`Note: The velocity that is reduced or increased by the applied force is not fixed and it depends on the angle the pole is pointing. The center of gravity of the pole varies the amount of energy needed to move the cart underneath it`\n",
    "\n",
    "#### Observation Space\n",
    "The observation is a ndarray with shape (4,) with the values corresponding to the following positions and velocities:\n",
    "\n",
    "\n",
    "##### Observation\n",
    "\n",
    "1. Cart Position\n",
    "\n",
    "2. Cart Velocity\n",
    "\n",
    "3. Pole Angle\n",
    "\n",
    "4. Pole Angular Velocity\n",
    "\n",
    "\n",
    "Note: While the ranges above denote the possible values for observation space of each element, it is not reflective of the allowed values of the state space in an unterminated episode. Particularly:\n",
    "\n",
    "The cart x-position (index 0) can be take values between (-4.8, 4.8), but the episode terminates if the cart leaves the (-2.4, 2.4) range.\n",
    "The pole angle can be observed between (-.418, .418) radians (or ±24°), but the episode terminates if the pole angle is not in the range (-.2095, .2095) (or ±12°)\n",
    "\n",
    "\n",
    "#### Rewards\n",
    "Since the goal is to keep the pole upright for as long as possible, a reward of +1 for every step taken, including the termination step, is allotted. The threshold for rewards is 475 for v1.\n",
    "\n",
    "#### Starting State\n",
    "All observations are assigned a uniformly random value in (-0.05, 0.05)\n",
    "\n",
    "#### Episode End\n",
    "The episode ends if any one of the following occurs:\n",
    "\n",
    "Termination: Pole Angle is greater than ±12°\n",
    "Termination: Cart Position is greater than ±2.4 (center of the cart reaches the edge of the display)\n",
    "Truncation: Episode length is greater than 500 (200 for v0)\n"
   ]
  },
  {
   "cell_type": "code",
   "execution_count": 6,
   "id": "c2231a37",
   "metadata": {},
   "outputs": [],
   "source": [
    "# setup ENV\n",
    "env = gym.make('CartPole-v1', render_mode=\"rgb_array\")\n",
    "# observation space\n",
    "# cart position, cart velocity, pole angle, pole angular velocity\n",
    "state_size = env.observation_space.shape[0]\n",
    "\n",
    "#action space\n",
    "# left, right\n",
    "action_size = env.action_space.n"
   ]
  },
  {
   "cell_type": "code",
   "execution_count": 7,
   "id": "cb582db5",
   "metadata": {},
   "outputs": [],
   "source": [
    "# v. Calculate the target Q-value for each transition\n",
    "# vi. Update the weights of the Q function using the mini-batch of transitions and the calculated target Q-values\n",
    "\n",
    "def train(batch, dqn, target_dqn, optimizer, gamma):\n",
    "    states, actions, rewards, next_states, dones = batch\n",
    "    Q = dqn(states)\n",
    "    Q = Q.gather(1, actions)\n",
    "    Q_next = target_dqn(next_states).max(1)[0].detach()\n",
    "    target = rewards + (1 - dones) * gamma * Q_next.unsqueeze(1)\n",
    "    loss = F.mse_loss(Q, target)\n",
    "    optimizer.zero_grad()\n",
    "    loss.backward()\n",
    "    optimizer.step()"
   ]
  },
  {
   "cell_type": "code",
   "execution_count": 8,
   "id": "ac53a598",
   "metadata": {},
   "outputs": [],
   "source": [
    "## plot helpers\n",
    "\n",
    "episode_durations = []\n",
    "\n",
    "\n",
    "def plot_durations(show_result=False):\n",
    "    plt.figure(1)\n",
    "    durations_t = torch.tensor(episode_durations, dtype=torch.float)\n",
    "    if show_result:\n",
    "        plt.title('Result')\n",
    "    else:\n",
    "        plt.clf()\n",
    "        plt.title('Training...')\n",
    "    plt.xlabel('Episode')\n",
    "    plt.ylabel('Duration')\n",
    "    plt.plot(durations_t.numpy())\n",
    "    # Take 100 episode averages and plot them too\n",
    "    if len(durations_t) >= 100:\n",
    "        means = durations_t.unfold(0, 100, 1).mean(1).view(-1)\n",
    "        means = torch.cat((torch.zeros(99), means))\n",
    "        plt.plot(means.numpy())\n",
    "\n",
    "    plt.pause(0.001)  # pause a bit so that plots are updated\n",
    "    if not show_result:\n",
    "        display.display(plt.gcf())\n",
    "        display.clear_output(wait=True)\n",
    "    else:\n",
    "        display.display(plt.gcf())"
   ]
  },
  {
   "cell_type": "code",
   "execution_count": 9,
   "id": "07d1d38f",
   "metadata": {},
   "outputs": [
    {
     "data": {
      "image/png": "[encoded data removed]",
      "text/plain": [
       "<Figure size 640x480 with 1 Axes>"
      ]
     },
     "metadata": {},
     "output_type": "display_data"
    }
   ],
   "source": [
    "# hyper-parameters\n",
    "replay_capacity = 10000\n",
    "batch_size = 128\n",
    "num_episodes = 500\n",
    "max_steps = 200\n",
    "\n",
    "# Initialize replay memory\n",
    "replay = ReplayMemory(replay_capacity)\n",
    "\n",
    "# Initialize action-value function Q with random weights\n",
    "dqn = QNet(state_size, action_size).to(device)\n",
    "dqn_ = QNet(state_size, action_size).to(device)\n",
    "\n",
    "# Initialize target action-value function Q' with the same weights as Q\n",
    "update_weights(dqn, dqn_)\n",
    "\n",
    "# optimizer \n",
    "lr = 1e-4\n",
    "optimizer = optim.Adam(dqn.parameters(), lr=lr)\n",
    "target_update = 200\n",
    "gamma = 0.99 # determines the importance of next steps rewards\n",
    "\n",
    "# epsilon\n",
    "epsilon = 0.9\n",
    "epsilon_min = 0.01\n",
    "epsilon_decay = 0.995\n",
    "\n",
    "\n",
    "# For each episode:\n",
    "\n",
    "for episode in range(num_episodes):\n",
    "    # a. Reset environment to initial state\n",
    "    state, _ = env.reset()\n",
    "    \n",
    "    score = 0\n",
    "    # b. For each time step\n",
    "    for t in range(max_steps):\n",
    "        # i. With probability epsilon select a random action, \n",
    "        #    otherwise select the action with the highest Q-value\n",
    "        if epsilon > random.random():\n",
    "            action = env.action_space.sample()\n",
    "        else:\n",
    "            action = dqn(torch.FloatTensor(state)).argmax().item()\n",
    "        \n",
    "        # ii. Execute the selected action in the environment \n",
    "        # and observe the next state and reward\n",
    "\n",
    "        next_state, reward, done, _, _ = env.step(action)\n",
    "        score += reward\n",
    "        \n",
    "        # iii. Store the transition in replay memory\n",
    "        replay.push(state, action, reward, next_state, done)\n",
    "        # move to next state\n",
    "        state = next_state\n",
    "        \n",
    "        # step v and vi is training the neural network\n",
    "        # executing this in separate function\n",
    "        if len(replay) > batch_size:\n",
    "            # iv. Sample a random mini-batch of transitions from replay memory\n",
    "            batch = replay.get_batch(batch_size)\n",
    "            states, actions, rewards, next_states, dones = batch\n",
    "            train(batch, dqn, dqn_, optimizer, gamma)\n",
    "            \n",
    "        # vii. Every C steps, update the target Q function \n",
    "        # by copying the weights from Q to Q'\n",
    "        \n",
    "        if t % target_update == 0:\n",
    "            update_weights(dqn, dqn_)\n",
    "        \n",
    "#         print(score)\n",
    "        clear_output(wait=True)\n",
    "        plt.imshow( env.render())\n",
    "        plt.show()\n",
    "#         plot_durations()\n",
    "        if done:\n",
    "            episode_durations.append(t + 1)\n",
    "            break\n",
    "    \n",
    "    # track scores\n",
    "\n",
    "    # update epsilon\n",
    "    epsilon = max(epsilon_min, epsilon_decay * epsilon)\n",
    "    # print progress\n",
    "#     print(f\"{episode + 1}/{num_episodes}\")\n"
   ]
  },
  {
   "cell_type": "code",
   "execution_count": null,
   "id": "ecbf6b02",
   "metadata": {},
   "outputs": [
    {
     "data": {
      "image/png": "[encoded data removed]",
      "text/plain": [
       "<Figure size 432x288 with 1 Axes>"
      ]
     },
     "metadata": {
      "needs_background": "light"
     },
     "output_type": "display_data"
    },
    {
     "data": {
      "text/plain": [
       "<Figure size 432x288 with 0 Axes>"
      ]
     },
     "metadata": {},
     "output_type": "display_data"
    },
    {
     "data": {
      "text/plain": [
       "<Figure size 432x288 with 0 Axes>"
      ]
     },
     "metadata": {},
     "output_type": "display_data"
    }
   ],
   "source": [
    "plot_durations(show_result=True)"
   ]
  },
  {
   "cell_type": "code",
   "execution_count": null,
   "id": "4dab403f",
   "metadata": {},
   "outputs": [],
   "source": []
  },
  {
   "cell_type": "code",
   "execution_count": null,
   "id": "084208d0",
   "metadata": {},
   "outputs": [],
   "source": []
  }
 ],
 "metadata": {
  "kernelspec": {
   "display_name": "Python 3",
   "language": "python",
   "name": "python3"
  },
  "language_info": {
   "codemirror_mode": {
    "name": "ipython",
    "version": 3
   },
   "file_extension": ".py",
   "mimetype": "text/x-python",
   "name": "python",
   "nbconvert_exporter": "python",
   "pygments_lexer": "ipython3",
   "version": "3.10.1"
  },
  "vscode": {
   "interpreter": {
    "hash": "04eb5fd3382f5ae6ecd8e5ea5943a43c2b77f84302c9ef3aee2bb26e0a62d38e"
   }
  }
 },
 "nbformat": 4,
 "nbformat_minor": 5
}
